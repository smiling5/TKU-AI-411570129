{
  "nbformat": 4,
  "nbformat_minor": 0,
  "metadata": {
    "colab": {
      "provenance": [],
      "authorship_tag": "ABX9TyMx05/+838JgtUKcizeXSpi",
      "include_colab_link": true
    },
    "kernelspec": {
      "name": "python3",
      "display_name": "Python 3"
    },
    "language_info": {
      "name": "python"
    }
  },
  "cells": [
    {
      "cell_type": "markdown",
      "metadata": {
        "id": "view-in-github",
        "colab_type": "text"
      },
      "source": [
        "<a href=\"https://colab.research.google.com/github/smiling5/TKU-AI-411570129/blob/main/1129.ipynb\" target=\"_parent\"><img src=\"https://colab.research.google.com/assets/colab-badge.svg\" alt=\"Open In Colab\"/></a>"
      ]
    },
    {
      "cell_type": "code",
      "execution_count": 3,
      "metadata": {
        "colab": {
          "base_uri": "https://localhost:8080/"
        },
        "id": "yQFAdhwFmHZw",
        "outputId": "5140d49e-f26d-426c-ec00-bef625284a95"
      },
      "outputs": [
        {
          "output_type": "stream",
          "name": "stdout",
          "text": [
            "Hi,1129\n"
          ]
        }
      ],
      "source": [
        "print(\"Hi,1129\")"
      ]
    },
    {
      "cell_type": "code",
      "source": [
        "numl=1+1.1"
      ],
      "metadata": {
        "id": "PKXU8Glcmtnq"
      },
      "execution_count": 4,
      "outputs": []
    },
    {
      "cell_type": "code",
      "source": [
        "numl"
      ],
      "metadata": {
        "colab": {
          "base_uri": "https://localhost:8080/"
        },
        "id": "EUKDBc4Lmy6W",
        "outputId": "f7d99ff1-b455-4a53-ff38-b3ea1067b612"
      },
      "execution_count": 5,
      "outputs": [
        {
          "output_type": "execute_result",
          "data": {
            "text/plain": [
              "2.1"
            ]
          },
          "metadata": {},
          "execution_count": 5
        }
      ]
    },
    {
      "cell_type": "code",
      "source": [
        "print(type(numl))"
      ],
      "metadata": {
        "colab": {
          "base_uri": "https://localhost:8080/"
        },
        "id": "qOHCmmVUnLB6",
        "outputId": "abceaaf6-5131-44b4-f586-2c27d7a5fc8f"
      },
      "execution_count": 6,
      "outputs": [
        {
          "output_type": "stream",
          "name": "stdout",
          "text": [
            "<class 'float'>\n"
          ]
        }
      ]
    },
    {
      "cell_type": "code",
      "source": [
        "str(numl)"
      ],
      "metadata": {
        "colab": {
          "base_uri": "https://localhost:8080/",
          "height": 35
        },
        "id": "K1wfLabQni_H",
        "outputId": "ed9194ce-02f7-479e-94f6-dea7d063ac13"
      },
      "execution_count": 7,
      "outputs": [
        {
          "output_type": "execute_result",
          "data": {
            "text/plain": [
              "'2.1'"
            ],
            "application/vnd.google.colaboratory.intrinsic+json": {
              "type": "string"
            }
          },
          "metadata": {},
          "execution_count": 7
        }
      ]
    },
    {
      "cell_type": "code",
      "source": [
        "num2=2"
      ],
      "metadata": {
        "id": "8VVFqbdyn4U0"
      },
      "execution_count": 8,
      "outputs": []
    },
    {
      "cell_type": "code",
      "source": [
        "num3=3"
      ],
      "metadata": {
        "id": "CfoxWo8On7Df"
      },
      "execution_count": 17,
      "outputs": []
    },
    {
      "cell_type": "code",
      "source": [
        "float(num2)"
      ],
      "metadata": {
        "colab": {
          "base_uri": "https://localhost:8080/"
        },
        "id": "QFjB-ZybpcGU",
        "outputId": "14efbd14-fab6-474b-c50d-d2690737f173"
      },
      "execution_count": 22,
      "outputs": [
        {
          "output_type": "execute_result",
          "data": {
            "text/plain": [
              "2.0"
            ]
          },
          "metadata": {},
          "execution_count": 22
        }
      ]
    },
    {
      "cell_type": "code",
      "source": [
        "float(num3)"
      ],
      "metadata": {
        "colab": {
          "base_uri": "https://localhost:8080/"
        },
        "id": "4cNsLqNqpfNr",
        "outputId": "f267bcd3-3fd7-46a7-89ca-06b7f931c106"
      },
      "execution_count": 23,
      "outputs": [
        {
          "output_type": "execute_result",
          "data": {
            "text/plain": [
              "3.0"
            ]
          },
          "metadata": {},
          "execution_count": 23
        }
      ]
    },
    {
      "cell_type": "code",
      "source": [
        "print(float(num2)+float(num3))"
      ],
      "metadata": {
        "colab": {
          "base_uri": "https://localhost:8080/"
        },
        "id": "_LP-XAFoplus",
        "outputId": "67623c12-244a-403f-be85-21032fae1634"
      },
      "execution_count": 24,
      "outputs": [
        {
          "output_type": "stream",
          "name": "stdout",
          "text": [
            "5.0\n"
          ]
        }
      ]
    },
    {
      "cell_type": "code",
      "source": [
        "num4=num2+num3"
      ],
      "metadata": {
        "id": "8Ne9qxEZn-JQ"
      },
      "execution_count": 19,
      "outputs": []
    },
    {
      "cell_type": "code",
      "source": [
        "num4"
      ],
      "metadata": {
        "colab": {
          "base_uri": "https://localhost:8080/"
        },
        "id": "Sgr0DLtPo7DV",
        "outputId": "4e9ba213-e685-4886-8a1e-ea6b4295d2a9"
      },
      "execution_count": 20,
      "outputs": [
        {
          "output_type": "execute_result",
          "data": {
            "text/plain": [
              "5"
            ]
          },
          "metadata": {},
          "execution_count": 20
        }
      ]
    },
    {
      "cell_type": "code",
      "source": [
        "print(type(num4))"
      ],
      "metadata": {
        "colab": {
          "base_uri": "https://localhost:8080/"
        },
        "id": "JlFtW-S1oEdF",
        "outputId": "3ee41bc5-97ec-4420-9757-7ec3a11fef7c"
      },
      "execution_count": 21,
      "outputs": [
        {
          "output_type": "stream",
          "name": "stdout",
          "text": [
            "<class 'int'>\n"
          ]
        }
      ]
    },
    {
      "cell_type": "code",
      "source": [
        "a=1\n",
        "b=2\n",
        "c=3"
      ],
      "metadata": {
        "id": "-5EIiSarqc1u"
      },
      "execution_count": 26,
      "outputs": []
    },
    {
      "cell_type": "code",
      "source": [
        "print(a,b,c)"
      ],
      "metadata": {
        "colab": {
          "base_uri": "https://localhost:8080/"
        },
        "id": "hOMPs1-sqiWC",
        "outputId": "865cd233-f89d-4fb1-b504-c0426a976c5c"
      },
      "execution_count": 27,
      "outputs": [
        {
          "output_type": "stream",
          "name": "stdout",
          "text": [
            "1 2 3\n"
          ]
        }
      ]
    },
    {
      "cell_type": "code",
      "source": [
        "print([a,b,c])"
      ],
      "metadata": {
        "colab": {
          "base_uri": "https://localhost:8080/"
        },
        "id": "JF2nLFRzqmCy",
        "outputId": "81088833-0609-4c56-af11-9091ec6b8d6d"
      },
      "execution_count": 28,
      "outputs": [
        {
          "output_type": "stream",
          "name": "stdout",
          "text": [
            "[1, 2, 3]\n"
          ]
        }
      ]
    },
    {
      "cell_type": "code",
      "source": [
        "print(a,[b,c])"
      ],
      "metadata": {
        "colab": {
          "base_uri": "https://localhost:8080/"
        },
        "id": "6riFrtw8qqnx",
        "outputId": "cdafa015-9951-4af8-cd60-26eaffb225cc"
      },
      "execution_count": 29,
      "outputs": [
        {
          "output_type": "stream",
          "name": "stdout",
          "text": [
            "1 [2, 3]\n"
          ]
        }
      ]
    },
    {
      "cell_type": "code",
      "source": [
        "print('hey','hi','hello')"
      ],
      "metadata": {
        "colab": {
          "base_uri": "https://localhost:8080/"
        },
        "id": "dvdtHvbAqu5S",
        "outputId": "88e9b813-2156-4319-8baf-f3ef9243ffd5"
      },
      "execution_count": 30,
      "outputs": [
        {
          "output_type": "stream",
          "name": "stdout",
          "text": [
            "hey hi hello\n"
          ]
        }
      ]
    },
    {
      "cell_type": "code",
      "source": [
        "print('hey','hi','hello',sep='_')"
      ],
      "metadata": {
        "colab": {
          "base_uri": "https://localhost:8080/"
        },
        "id": "nWO7ZPNSq5ZV",
        "outputId": "d78902ed-5572-4768-bbb7-eca5ea7e90dd"
      },
      "execution_count": 31,
      "outputs": [
        {
          "output_type": "stream",
          "name": "stdout",
          "text": [
            "hey_hi_hello\n"
          ]
        }
      ]
    },
    {
      "cell_type": "code",
      "source": [
        "print('hey','hi','hello',sep='\\t')"
      ],
      "metadata": {
        "colab": {
          "base_uri": "https://localhost:8080/"
        },
        "id": "l-DqFAyQrF8c",
        "outputId": "cc4cf7b0-37b1-4380-a598-2fe74034bc14"
      },
      "execution_count": 32,
      "outputs": [
        {
          "output_type": "stream",
          "name": "stdout",
          "text": [
            "hey\thi\thello\n"
          ]
        }
      ]
    },
    {
      "cell_type": "code",
      "source": [
        "print('hey','hi','hello',sep='\\n')"
      ],
      "metadata": {
        "colab": {
          "base_uri": "https://localhost:8080/"
        },
        "id": "bwAmM8R8rUDE",
        "outputId": "82dbe2a4-1973-4bfa-af91-b2a4982c5ec4"
      },
      "execution_count": 35,
      "outputs": [
        {
          "output_type": "stream",
          "name": "stdout",
          "text": [
            "hey\n",
            "hi\n",
            "hello\n"
          ]
        }
      ]
    },
    {
      "cell_type": "code",
      "source": [
        "print('早安,')"
      ],
      "metadata": {
        "colab": {
          "base_uri": "https://localhost:8080/"
        },
        "id": "JcILCIyLr3u-",
        "outputId": "25ba737e-c1bb-4cf6-dc3e-c0a3633dce10"
      },
      "execution_count": 37,
      "outputs": [
        {
          "output_type": "stream",
          "name": "stdout",
          "text": [
            "早安,\n"
          ]
        }
      ]
    },
    {
      "cell_type": "code",
      "source": [
        "print('同學好!')"
      ],
      "metadata": {
        "colab": {
          "base_uri": "https://localhost:8080/"
        },
        "id": "orRp094usCNS",
        "outputId": "bb6f06dc-4958-45cf-c930-0dc0ebeaf11c"
      },
      "execution_count": 38,
      "outputs": [
        {
          "output_type": "stream",
          "name": "stdout",
          "text": [
            "同學好!\n"
          ]
        }
      ]
    },
    {
      "cell_type": "code",
      "source": [
        "print('打起精神來!!')"
      ],
      "metadata": {
        "colab": {
          "base_uri": "https://localhost:8080/"
        },
        "id": "Wifi_1DTsJXU",
        "outputId": "60ef54b2-6175-4537-f608-8655f58dd7f4"
      },
      "execution_count": 39,
      "outputs": [
        {
          "output_type": "stream",
          "name": "stdout",
          "text": [
            "打起精神來!!\n"
          ]
        }
      ]
    },
    {
      "cell_type": "code",
      "source": [
        "print('早安,','同學好!','打起精神來!!',sep='\\n')"
      ],
      "metadata": {
        "colab": {
          "base_uri": "https://localhost:8080/"
        },
        "id": "kesFlKG-sOct",
        "outputId": "07a3a2c3-2dbd-4c59-f177-6471190b3f8f"
      },
      "execution_count": 40,
      "outputs": [
        {
          "output_type": "stream",
          "name": "stdout",
          "text": [
            "早安,\n",
            "同學好!\n",
            "打起精神來!!\n"
          ]
        }
      ]
    },
    {
      "cell_type": "code",
      "source": [
        "print(123)\n",
        "print(456)"
      ],
      "metadata": {
        "colab": {
          "base_uri": "https://localhost:8080/"
        },
        "id": "wPoSdK0vsfRY",
        "outputId": "f4d83d28-2720-41da-ae14-181db5133bfb"
      },
      "execution_count": 41,
      "outputs": [
        {
          "output_type": "stream",
          "name": "stdout",
          "text": [
            "123\n",
            "456\n"
          ]
        }
      ]
    },
    {
      "cell_type": "code",
      "source": [
        "print(123,end=',')\n",
        "print(456)"
      ],
      "metadata": {
        "colab": {
          "base_uri": "https://localhost:8080/"
        },
        "id": "dYjGq_3Rsl_7",
        "outputId": "6c8056cd-cd33-4df4-b2cb-73fed5e51c3b"
      },
      "execution_count": 42,
      "outputs": [
        {
          "output_type": "stream",
          "name": "stdout",
          "text": [
            "123,456\n"
          ]
        }
      ]
    },
    {
      "cell_type": "code",
      "source": [
        "print(123,end='')\n",
        "print(456)"
      ],
      "metadata": {
        "colab": {
          "base_uri": "https://localhost:8080/"
        },
        "id": "CV2Jim75sscJ",
        "outputId": "7df7a8ce-8fef-45cd-a678-51e35b5ccbf3"
      },
      "execution_count": 43,
      "outputs": [
        {
          "output_type": "stream",
          "name": "stdout",
          "text": [
            "123456\n"
          ]
        }
      ]
    },
    {
      "cell_type": "code",
      "source": [
        "print('午安','同學好','打起精神來!!!',sep='_')"
      ],
      "metadata": {
        "colab": {
          "base_uri": "https://localhost:8080/"
        },
        "id": "LR2h7qcws13C",
        "outputId": "243d987c-b9b1-4b2d-bb6c-0f2704750c9c"
      },
      "execution_count": 44,
      "outputs": [
        {
          "output_type": "stream",
          "name": "stdout",
          "text": [
            "午安_同學好_打起精神來!!!\n"
          ]
        }
      ]
    },
    {
      "cell_type": "code",
      "source": [
        "print('下午好','平安順心','健康如意^^',sep=',')"
      ],
      "metadata": {
        "colab": {
          "base_uri": "https://localhost:8080/"
        },
        "id": "qYiP6KKDtRYx",
        "outputId": "3f9ca3e0-2586-4d83-b957-52e2692d854a"
      },
      "execution_count": 45,
      "outputs": [
        {
          "output_type": "stream",
          "name": "stdout",
          "text": [
            "下午好,平安順心,健康如意^^\n"
          ]
        }
      ]
    }
  ]
}