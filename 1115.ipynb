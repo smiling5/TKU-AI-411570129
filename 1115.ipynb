{
  "nbformat": 4,
  "nbformat_minor": 0,
  "metadata": {
    "colab": {
      "provenance": [],
      "authorship_tag": "ABX9TyMnMNQkygzmQNHAaEi8Ol71",
      "include_colab_link": true
    },
    "kernelspec": {
      "name": "python3",
      "display_name": "Python 3"
    },
    "language_info": {
      "name": "python"
    }
  },
  "cells": [
    {
      "cell_type": "markdown",
      "metadata": {
        "id": "view-in-github",
        "colab_type": "text"
      },
      "source": [
        "<a href=\"https://colab.research.google.com/github/smiling5/TKU-AI-411570129/blob/main/1115.ipynb\" target=\"_parent\"><img src=\"https://colab.research.google.com/assets/colab-badge.svg\" alt=\"Open In Colab\"/></a>"
      ]
    },
    {
      "cell_type": "code",
      "execution_count": null,
      "metadata": {
        "colab": {
          "base_uri": "https://localhost:8080/"
        },
        "id": "Y3LN5VVnsoud",
        "outputId": "4a885643-8f68-4a77-fafc-927ca8a0bb54"
      },
      "outputs": [
        {
          "output_type": "stream",
          "name": "stdout",
          "text": [
            "Hi,Python\n"
          ]
        }
      ],
      "source": [
        "print(\"Hi,Python\")"
      ]
    },
    {
      "cell_type": "markdown",
      "source": [
        "今天是11月15日"
      ],
      "metadata": {
        "id": "76A7PNbDt2AL"
      }
    },
    {
      "cell_type": "code",
      "source": [
        "print(\"今天是11月15日\")"
      ],
      "metadata": {
        "colab": {
          "base_uri": "https://localhost:8080/"
        },
        "id": "KQ5uHfcwwPID",
        "outputId": "bd5418fc-a928-4cfe-93c7-1e9018bafd18"
      },
      "execution_count": null,
      "outputs": [
        {
          "output_type": "stream",
          "name": "stdout",
          "text": [
            "今天是11月15日\n"
          ]
        }
      ]
    },
    {
      "cell_type": "code",
      "source": [
        "print(\"林奕遠,411570129\")"
      ],
      "metadata": {
        "id": "qhbJhnGcw4xy",
        "colab": {
          "base_uri": "https://localhost:8080/"
        },
        "outputId": "626ccc59-dec2-47b0-86b9-9d44bfde77a5"
      },
      "execution_count": 4,
      "outputs": [
        {
          "output_type": "stream",
          "name": "stdout",
          "text": [
            "林奕遠,411570129\n"
          ]
        }
      ]
    }
  ]
}